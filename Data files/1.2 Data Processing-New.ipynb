{
 "cells": [
  {
   "cell_type": "markdown",
   "id": "32747a79-5873-4656-92c9-2b4d6ec3dd1f",
   "metadata": {},
   "source": [
    "# EDA"
   ]
  },
  {
   "cell_type": "code",
   "execution_count": 1,
   "id": "ef4bab94-6067-486c-8163-087db181da5f",
   "metadata": {},
   "outputs": [],
   "source": [
    "import pandas as pd\n",
    "from sklearn.preprocessing import LabelEncoder, StandardScaler, OneHotEncoder\n",
    "from sklearn.impute import SimpleImputer"
   ]
  },
  {
   "cell_type": "code",
   "execution_count": 2,
   "id": "7bf3f966-563a-4791-8bce-a9304490f1d4",
   "metadata": {},
   "outputs": [],
   "source": [
    "df = pd.read_csv('merged_file.csv')"
   ]
  },
  {
   "cell_type": "code",
   "execution_count": 3,
   "id": "352df56d-bb59-4851-bcec-b30e5c2f38ba",
   "metadata": {},
   "outputs": [
    {
     "data": {
      "text/html": [
       "<div>\n",
       "<style scoped>\n",
       "    .dataframe tbody tr th:only-of-type {\n",
       "        vertical-align: middle;\n",
       "    }\n",
       "\n",
       "    .dataframe tbody tr th {\n",
       "        vertical-align: top;\n",
       "    }\n",
       "\n",
       "    .dataframe thead th {\n",
       "        text-align: right;\n",
       "    }\n",
       "</style>\n",
       "<table border=\"1\" class=\"dataframe\">\n",
       "  <thead>\n",
       "    <tr style=\"text-align: right;\">\n",
       "      <th></th>\n",
       "      <th>Student ID</th>\n",
       "      <th>Age</th>\n",
       "      <th>Gender</th>\n",
       "      <th>Height</th>\n",
       "      <th>Weight</th>\n",
       "      <th>Blood Type</th>\n",
       "      <th>BMI</th>\n",
       "      <th>Temperature</th>\n",
       "      <th>Heart Rate</th>\n",
       "      <th>Blood Pressure</th>\n",
       "      <th>Cholesterol</th>\n",
       "      <th>Diabetes</th>\n",
       "      <th>Smoking</th>\n",
       "    </tr>\n",
       "  </thead>\n",
       "  <tbody>\n",
       "    <tr>\n",
       "      <th>0</th>\n",
       "      <td>1.0</td>\n",
       "      <td>18.0</td>\n",
       "      <td>Female</td>\n",
       "      <td>161.777924</td>\n",
       "      <td>72.354947</td>\n",
       "      <td>O</td>\n",
       "      <td>27.645835</td>\n",
       "      <td>98.614398</td>\n",
       "      <td>95.0</td>\n",
       "      <td>109.0</td>\n",
       "      <td>203.0</td>\n",
       "      <td>No</td>\n",
       "      <td>Yes</td>\n",
       "    </tr>\n",
       "    <tr>\n",
       "      <th>1</th>\n",
       "      <td>2.0</td>\n",
       "      <td>34.0</td>\n",
       "      <td>Male</td>\n",
       "      <td>152.069157</td>\n",
       "      <td>47.630941</td>\n",
       "      <td>B</td>\n",
       "      <td>20.597139</td>\n",
       "      <td>98.714977</td>\n",
       "      <td>93.0</td>\n",
       "      <td>104.0</td>\n",
       "      <td>163.0</td>\n",
       "      <td>No</td>\n",
       "      <td>No</td>\n",
       "    </tr>\n",
       "    <tr>\n",
       "      <th>2</th>\n",
       "      <td>3.0</td>\n",
       "      <td>32.0</td>\n",
       "      <td>Female</td>\n",
       "      <td>182.537664</td>\n",
       "      <td>55.741083</td>\n",
       "      <td>A</td>\n",
       "      <td>16.729017</td>\n",
       "      <td>98.260293</td>\n",
       "      <td>76.0</td>\n",
       "      <td>130.0</td>\n",
       "      <td>216.0</td>\n",
       "      <td>Yes</td>\n",
       "      <td>No</td>\n",
       "    </tr>\n",
       "    <tr>\n",
       "      <th>3</th>\n",
       "      <td>4.0</td>\n",
       "      <td>30.0</td>\n",
       "      <td>Male</td>\n",
       "      <td>182.112867</td>\n",
       "      <td>63.332207</td>\n",
       "      <td>B</td>\n",
       "      <td>19.096042</td>\n",
       "      <td>98.839605</td>\n",
       "      <td>99.0</td>\n",
       "      <td>112.0</td>\n",
       "      <td>141.0</td>\n",
       "      <td>No</td>\n",
       "      <td>Yes</td>\n",
       "    </tr>\n",
       "    <tr>\n",
       "      <th>4</th>\n",
       "      <td>5.0</td>\n",
       "      <td>23.0</td>\n",
       "      <td>Female</td>\n",
       "      <td>179.339293</td>\n",
       "      <td>46.234173</td>\n",
       "      <td>O</td>\n",
       "      <td>14.375143</td>\n",
       "      <td>98.480008</td>\n",
       "      <td>95.0</td>\n",
       "      <td>139.0</td>\n",
       "      <td>231.0</td>\n",
       "      <td>No</td>\n",
       "      <td>No</td>\n",
       "    </tr>\n",
       "  </tbody>\n",
       "</table>\n",
       "</div>"
      ],
      "text/plain": [
       "   Student ID   Age  Gender      Height     Weight Blood Type        BMI  \\\n",
       "0         1.0  18.0  Female  161.777924  72.354947          O  27.645835   \n",
       "1         2.0  34.0    Male  152.069157  47.630941          B  20.597139   \n",
       "2         3.0  32.0  Female  182.537664  55.741083          A  16.729017   \n",
       "3         4.0  30.0    Male  182.112867  63.332207          B  19.096042   \n",
       "4         5.0  23.0  Female  179.339293  46.234173          O  14.375143   \n",
       "\n",
       "   Temperature  Heart Rate  Blood Pressure  Cholesterol Diabetes Smoking  \n",
       "0    98.614398        95.0           109.0        203.0       No     Yes  \n",
       "1    98.714977        93.0           104.0        163.0       No      No  \n",
       "2    98.260293        76.0           130.0        216.0      Yes      No  \n",
       "3    98.839605        99.0           112.0        141.0       No     Yes  \n",
       "4    98.480008        95.0           139.0        231.0       No      No  "
      ]
     },
     "execution_count": 3,
     "metadata": {},
     "output_type": "execute_result"
    }
   ],
   "source": [
    "df.head()"
   ]
  },
  {
   "cell_type": "code",
   "execution_count": 4,
   "id": "84938304-d290-4d3b-b379-82f6d824259f",
   "metadata": {},
   "outputs": [
    {
     "data": {
      "text/html": [
       "<div>\n",
       "<style scoped>\n",
       "    .dataframe tbody tr th:only-of-type {\n",
       "        vertical-align: middle;\n",
       "    }\n",
       "\n",
       "    .dataframe tbody tr th {\n",
       "        vertical-align: top;\n",
       "    }\n",
       "\n",
       "    .dataframe thead th {\n",
       "        text-align: right;\n",
       "    }\n",
       "</style>\n",
       "<table border=\"1\" class=\"dataframe\">\n",
       "  <thead>\n",
       "    <tr style=\"text-align: right;\">\n",
       "      <th></th>\n",
       "      <th>Student ID</th>\n",
       "      <th>Age</th>\n",
       "      <th>Height</th>\n",
       "      <th>Weight</th>\n",
       "      <th>BMI</th>\n",
       "      <th>Temperature</th>\n",
       "      <th>Heart Rate</th>\n",
       "      <th>Blood Pressure</th>\n",
       "      <th>Cholesterol</th>\n",
       "    </tr>\n",
       "  </thead>\n",
       "  <tbody>\n",
       "    <tr>\n",
       "      <th>count</th>\n",
       "      <td>98976.000000</td>\n",
       "      <td>98982.000000</td>\n",
       "      <td>98992.000000</td>\n",
       "      <td>99026.000000</td>\n",
       "      <td>98983.000000</td>\n",
       "      <td>99006.000000</td>\n",
       "      <td>98986.000000</td>\n",
       "      <td>99058.000000</td>\n",
       "      <td>99003.000000</td>\n",
       "    </tr>\n",
       "    <tr>\n",
       "      <th>mean</th>\n",
       "      <td>49996.307610</td>\n",
       "      <td>26.017973</td>\n",
       "      <td>174.951269</td>\n",
       "      <td>69.977129</td>\n",
       "      <td>23.339785</td>\n",
       "      <td>98.601583</td>\n",
       "      <td>79.506981</td>\n",
       "      <td>114.564599</td>\n",
       "      <td>184.472814</td>\n",
       "    </tr>\n",
       "    <tr>\n",
       "      <th>std</th>\n",
       "      <td>28872.767544</td>\n",
       "      <td>4.891576</td>\n",
       "      <td>14.444781</td>\n",
       "      <td>17.319706</td>\n",
       "      <td>7.031398</td>\n",
       "      <td>0.500543</td>\n",
       "      <td>11.542240</td>\n",
       "      <td>14.404044</td>\n",
       "      <td>37.534509</td>\n",
       "    </tr>\n",
       "    <tr>\n",
       "      <th>min</th>\n",
       "      <td>1.000000</td>\n",
       "      <td>18.000000</td>\n",
       "      <td>150.000041</td>\n",
       "      <td>40.000578</td>\n",
       "      <td>10.074837</td>\n",
       "      <td>96.397835</td>\n",
       "      <td>60.000000</td>\n",
       "      <td>90.000000</td>\n",
       "      <td>120.000000</td>\n",
       "    </tr>\n",
       "    <tr>\n",
       "      <th>25%</th>\n",
       "      <td>24995.750000</td>\n",
       "      <td>22.000000</td>\n",
       "      <td>162.484681</td>\n",
       "      <td>54.983370</td>\n",
       "      <td>17.862867</td>\n",
       "      <td>98.265059</td>\n",
       "      <td>70.000000</td>\n",
       "      <td>102.000000</td>\n",
       "      <td>152.000000</td>\n",
       "    </tr>\n",
       "    <tr>\n",
       "      <th>50%</th>\n",
       "      <td>49985.500000</td>\n",
       "      <td>26.000000</td>\n",
       "      <td>174.896914</td>\n",
       "      <td>69.982006</td>\n",
       "      <td>22.677984</td>\n",
       "      <td>98.600037</td>\n",
       "      <td>80.000000</td>\n",
       "      <td>115.000000</td>\n",
       "      <td>184.000000</td>\n",
       "    </tr>\n",
       "    <tr>\n",
       "      <th>75%</th>\n",
       "      <td>75000.250000</td>\n",
       "      <td>30.000000</td>\n",
       "      <td>187.457096</td>\n",
       "      <td>84.995525</td>\n",
       "      <td>27.991514</td>\n",
       "      <td>98.940734</td>\n",
       "      <td>90.000000</td>\n",
       "      <td>127.000000</td>\n",
       "      <td>217.000000</td>\n",
       "    </tr>\n",
       "    <tr>\n",
       "      <th>max</th>\n",
       "      <td>100000.000000</td>\n",
       "      <td>34.000000</td>\n",
       "      <td>199.998639</td>\n",
       "      <td>99.999907</td>\n",
       "      <td>44.355113</td>\n",
       "      <td>100.824857</td>\n",
       "      <td>99.000000</td>\n",
       "      <td>139.000000</td>\n",
       "      <td>249.000000</td>\n",
       "    </tr>\n",
       "  </tbody>\n",
       "</table>\n",
       "</div>"
      ],
      "text/plain": [
       "          Student ID           Age        Height        Weight           BMI  \\\n",
       "count   98976.000000  98982.000000  98992.000000  99026.000000  98983.000000   \n",
       "mean    49996.307610     26.017973    174.951269     69.977129     23.339785   \n",
       "std     28872.767544      4.891576     14.444781     17.319706      7.031398   \n",
       "min         1.000000     18.000000    150.000041     40.000578     10.074837   \n",
       "25%     24995.750000     22.000000    162.484681     54.983370     17.862867   \n",
       "50%     49985.500000     26.000000    174.896914     69.982006     22.677984   \n",
       "75%     75000.250000     30.000000    187.457096     84.995525     27.991514   \n",
       "max    100000.000000     34.000000    199.998639     99.999907     44.355113   \n",
       "\n",
       "        Temperature    Heart Rate  Blood Pressure   Cholesterol  \n",
       "count  99006.000000  98986.000000    99058.000000  99003.000000  \n",
       "mean      98.601583     79.506981      114.564599    184.472814  \n",
       "std        0.500543     11.542240       14.404044     37.534509  \n",
       "min       96.397835     60.000000       90.000000    120.000000  \n",
       "25%       98.265059     70.000000      102.000000    152.000000  \n",
       "50%       98.600037     80.000000      115.000000    184.000000  \n",
       "75%       98.940734     90.000000      127.000000    217.000000  \n",
       "max      100.824857     99.000000      139.000000    249.000000  "
      ]
     },
     "execution_count": 4,
     "metadata": {},
     "output_type": "execute_result"
    }
   ],
   "source": [
    "df.describe()"
   ]
  },
  {
   "cell_type": "code",
   "execution_count": 5,
   "id": "550958b0-dd4c-46ce-8771-0a76d3f1e774",
   "metadata": {},
   "outputs": [
    {
     "data": {
      "text/plain": [
       "Student ID        1024\n",
       "Age               1018\n",
       "Gender             963\n",
       "Height            1008\n",
       "Weight             974\n",
       "Blood Type        1009\n",
       "BMI               1017\n",
       "Temperature        994\n",
       "Heart Rate        1014\n",
       "Blood Pressure     942\n",
       "Cholesterol        997\n",
       "Diabetes          1007\n",
       "Smoking            997\n",
       "dtype: int64"
      ]
     },
     "execution_count": 5,
     "metadata": {},
     "output_type": "execute_result"
    }
   ],
   "source": [
    "df.isnull().sum()"
   ]
  },
  {
   "cell_type": "code",
   "execution_count": 6,
   "id": "a5aeb50e-59cd-42e7-80e4-564590f48e47",
   "metadata": {},
   "outputs": [],
   "source": [
    "# Fill missing values for continuous features with mean values\n",
    "continuous_features = ['Age', 'Height', 'Weight', 'BMI', 'Temperature', 'Heart Rate', 'Blood Pressure', 'Cholesterol']\n",
    "for feature in continuous_features:\n",
    "    df[feature].fillna(df[feature].mean(), inplace=True)\n",
    "\n",
    "# Fill missing values for categorical features using mode\n",
    "categorical_features = ['Gender', 'Blood Type', 'Smoking']\n",
    "for feature in categorical_features:\n",
    "    mode_value = df[feature].mode()[0]\n",
    "    df[feature].fillna(mode_value, inplace=True)\n",
    "\n",
    "# Missing values for the 'Diabetes' column are not filled as we will be using the model to predict these missing values"
   ]
  },
  {
   "cell_type": "code",
   "execution_count": 7,
   "id": "38ab5f64-80a7-496b-91c8-f2ecb538d7e7",
   "metadata": {},
   "outputs": [],
   "source": [
    "# Encode binary features using LabelEncoder\n",
    "label_encoders = {}\n",
    "for feature in ['Gender', 'Smoking']:\n",
    "    le = LabelEncoder()\n",
    "    df[feature] = le.fit_transform(df[feature])\n",
    "    label_encoders[feature] = le\n",
    "\n",
    "# Encode multivalued feature 'Blood Type' using pd.get_dummies or OneHotEncoder\n",
    "df = pd.concat([df, pd.get_dummies(df['Blood Type'], prefix='Blood Type')], axis=1)\n",
    "df.drop(['Blood Type'], axis=1, inplace=True)"
   ]
  },
  {
   "cell_type": "code",
   "execution_count": 8,
   "id": "e8ebdf4c-eb17-4842-a6f8-6c6ffffa5634",
   "metadata": {},
   "outputs": [],
   "source": [
    "scaler = StandardScaler()\n",
    "df[continuous_features] = scaler.fit_transform(df[continuous_features])"
   ]
  },
  {
   "cell_type": "markdown",
   "id": "e9f8c149-5a3b-4186-bf8d-5bae4ffd362c",
   "metadata": {},
   "source": [
    "# data separation"
   ]
  },
  {
   "cell_type": "code",
   "execution_count": 9,
   "id": "98ab66e0-c15e-4935-b5c2-4bdd7bb23740",
   "metadata": {},
   "outputs": [],
   "source": [
    "from sklearn.model_selection import train_test_split"
   ]
  },
  {
   "cell_type": "code",
   "execution_count": 10,
   "id": "52bd61ea-08dc-4cae-a57b-47845eaf9de1",
   "metadata": {},
   "outputs": [],
   "source": [
    "X = df.drop('Diabetes', axis=1)\n",
    "y = df['Diabetes']"
   ]
  },
  {
   "cell_type": "code",
   "execution_count": 11,
   "id": "311a6f64-9459-4e0d-9e3e-6f3147e1c491",
   "metadata": {},
   "outputs": [],
   "source": [
    "# Select those rows where 'Diabetes' is not NaN\n",
    "available_data = y.notnull()\n",
    "\n",
    "X_available = X[available_data]\n",
    "y_available = y[available_data]\n",
    "\n",
    "X_train, X_test, y_train, y_test = train_test_split(X_available, y_available, test_size=0.2, random_state=42)"
   ]
  },
  {
   "cell_type": "code",
   "execution_count": 12,
   "id": "a3343fa9-13c5-43a8-baf2-a1567beda777",
   "metadata": {},
   "outputs": [],
   "source": [
    "X_missing = X[~available_data]"
   ]
  },
  {
   "cell_type": "code",
   "execution_count": 13,
   "id": "8f44640c-1d84-471d-b8ee-3cc28e14299f",
   "metadata": {},
   "outputs": [
    {
     "name": "stdout",
     "output_type": "stream",
     "text": [
      "Student ID        814\n",
      "Age                 0\n",
      "Gender              0\n",
      "Height              0\n",
      "Weight              0\n",
      "BMI                 0\n",
      "Temperature         0\n",
      "Heart Rate          0\n",
      "Blood Pressure      0\n",
      "Cholesterol         0\n",
      "Smoking             0\n",
      "Blood Type_A        0\n",
      "Blood Type_AB       0\n",
      "Blood Type_B        0\n",
      "Blood Type_O        0\n",
      "dtype: int64\n"
     ]
    }
   ],
   "source": [
    "print(X_train.isnull().sum())"
   ]
  },
  {
   "cell_type": "code",
   "execution_count": 14,
   "id": "08787683-e0e6-4394-9103-804fb10a9a30",
   "metadata": {},
   "outputs": [],
   "source": [
    "X_train = X_train.drop(columns=['Student ID'])\n",
    "X_test = X_test.drop(columns=['Student ID'])"
   ]
  },
  {
   "cell_type": "markdown",
   "id": "a50825b4-2432-40c5-9096-f3d53c2392e6",
   "metadata": {},
   "source": [
    "# Model selection and training"
   ]
  },
  {
   "cell_type": "code",
   "execution_count": 15,
   "id": "48d10f3b-5b43-4758-b9da-c78bc57d65c7",
   "metadata": {},
   "outputs": [],
   "source": [
    "from sklearn.linear_model import LogisticRegression\n",
    "from sklearn.ensemble import RandomForestClassifier\n",
    "from sklearn.metrics import accuracy_score, classification_report\n",
    "from sklearn.model_selection import cross_val_score"
   ]
  },
  {
   "cell_type": "code",
   "execution_count": 16,
   "id": "ef6c8e6b-2861-461a-a561-4eaa7d9cb9de",
   "metadata": {},
   "outputs": [],
   "source": [
    "logistic_model = LogisticRegression(max_iter=1000, random_state=42)\n",
    "random_forest_model = RandomForestClassifier(n_estimators=100, random_state=42)"
   ]
  },
  {
   "cell_type": "code",
   "execution_count": 17,
   "id": "067d760f-c298-4b73-950b-51ca195c270f",
   "metadata": {},
   "outputs": [
    {
     "name": "stdout",
     "output_type": "stream",
     "text": [
      "Logistic Regression CV Accuracy: 0.90 (+/- 0.00)\n",
      "Random Forest CV Accuracy: 0.90 (+/- 0.00)\n"
     ]
    }
   ],
   "source": [
    "# Cross Validation Using Logistic Regression Models\n",
    "logistic_scores = cross_val_score(logistic_model, X_train, y_train, cv=5, scoring='accuracy')\n",
    "\n",
    "# Cross Validation Using Random Forest Model\n",
    "rf_scores = cross_val_score(random_forest_model, X_train, y_train, cv=5, scoring='accuracy')\n",
    "\n",
    "print(\"Logistic Regression CV Accuracy: %0.2f (+/- %0.2f)\" % (logistic_scores.mean(), logistic_scores.std() * 2))\n",
    "print(\"Random Forest CV Accuracy: %0.2f (+/- %0.2f)\" % (rf_scores.mean(), rf_scores.std() * 2))"
   ]
  },
  {
   "cell_type": "markdown",
   "id": "e660fec6-9d61-422f-98e6-aaffffed6616",
   "metadata": {},
   "source": [
    "# evaluation model"
   ]
  },
  {
   "cell_type": "code",
   "execution_count": 18,
   "id": "ff51d1b7-c397-4078-bc97-af8923b7b2c9",
   "metadata": {},
   "outputs": [],
   "source": [
    "# 1. Fit the model to the training data\n",
    "\n",
    "logistic_model.fit(X_train, y_train)\n",
    "\n",
    "# Now that the model is trained, we can use it to make predictions\n",
    "\n",
    "# 2. Use the trained model to make predictions\n",
    "y_pred_logistic = logistic_model.predict(X_test)\n",
    "\n",
    "random_forest_model.fit(X_train, y_train)\n",
    "y_pred_rf = random_forest_model.predict(X_test)"
   ]
  },
  {
   "cell_type": "code",
   "execution_count": 19,
   "id": "7b8aa003-14f8-4da9-ae87-13c75b6a26db",
   "metadata": {},
   "outputs": [],
   "source": [
    "# Use the logistic regression model to make predictions\n",
    "y_pred_logistic = logistic_model. predict(X_test)\n",
    "\n",
    "# Use the random forest model to make predictions\n",
    "y_pred_rf = random_forest_model. predict(X_test)"
   ]
  },
  {
   "cell_type": "code",
   "execution_count": 20,
   "id": "89e7ffb4-9673-4da4-9440-5401861f10ed",
   "metadata": {},
   "outputs": [
    {
     "name": "stderr",
     "output_type": "stream",
     "text": [
      "C:\\Users\\31332\\anaconda3\\lib\\site-packages\\sklearn\\metrics\\_classification.py:1469: UndefinedMetricWarning: Precision is ill-defined and being set to 0.0 due to no predicted samples. Use `zero_division` parameter to control this behavior.\n",
      "  _warn_prf(average, modifier, msg_start, len(result))\n"
     ]
    },
    {
     "name": "stdout",
     "output_type": "stream",
     "text": [
      "For Logistic Regression:\n",
      "Accuracy: 0.90\n",
      "Precision: 0.00\n",
      "Recall: 0.00\n",
      "F1 Score: 0.00\n",
      "\n",
      "For Random Forest:\n",
      "Accuracy: 0.90\n",
      "Precision: 0.00\n",
      "Recall: 0.00\n",
      "F1 Score: 0.00\n"
     ]
    },
    {
     "name": "stderr",
     "output_type": "stream",
     "text": [
      "C:\\Users\\31332\\anaconda3\\lib\\site-packages\\sklearn\\metrics\\_classification.py:1469: UndefinedMetricWarning: Precision is ill-defined and being set to 0.0 due to no predicted samples. Use `zero_division` parameter to control this behavior.\n",
      "  _warn_prf(average, modifier, msg_start, len(result))\n"
     ]
    }
   ],
   "source": [
    "from sklearn import metrics\n",
    "\n",
    "# Calculate metrics for logistic regression\n",
    "accuracy_logistic = metrics.accuracy_score(y_test, y_pred_logistic)\n",
    "precision_logistic = metrics.precision_score(y_test, y_pred_logistic, pos_label='Yes')\n",
    "recall_logistic = metrics.recall_score(y_test, y_pred_logistic, pos_label='Yes')\n",
    "f1_logistic = metrics.f1_score(y_test, y_pred_logistic, pos_label='Yes')\n",
    "\n",
    "# Compute Metrics for Random Forest\n",
    "accuracy_rf = metrics.accuracy_score(y_test, y_pred_rf)\n",
    "precision_rf = metrics.precision_score(y_test, y_pred_rf, pos_label='Yes')\n",
    "recall_rf = metrics.recall_score(y_test, y_pred_rf, pos_label='Yes')\n",
    "f1_rf = metrics.f1_score(y_test, y_pred_rf, pos_label='Yes')\n",
    "\n",
    "print(\"For Logistic Regression:\")\n",
    "print(f\"Accuracy: {accuracy_logistic:.2f}\")\n",
    "print(f\"Precision: {precision_logistic:.2f}\")\n",
    "print(f\"Recall: {recall_logistic:.2f}\")\n",
    "print(f\"F1 Score: {f1_logistic:.2f}\")\n",
    "\n",
    "print(\"\\nFor Random Forest:\")\n",
    "print(f\"Accuracy: {accuracy_rf:.2f}\")\n",
    "print(f\"Precision: {precision_rf:.2f}\")\n",
    "print(f\"Recall: {recall_rf:.2f}\")\n",
    "print(f\"F1 Score: {f1_rf:.2f}\")"
   ]
  },
  {
   "cell_type": "code",
   "execution_count": 21,
   "id": "5d9dfeef-4036-40c2-a642-123a9b3930cb",
   "metadata": {},
   "outputs": [
    {
     "data": {
      "image/png": "[encoded data removed]",
      "text/plain": [
       "<Figure size 1000x700 with 1 Axes>"
      ]
     },
     "metadata": {},
     "output_type": "display_data"
    }
   ],
   "source": [
    "import matplotlib.pyplot as plt\n",
    "\n",
    "# Calculate the ROC curve value of logistic regression\n",
    "fpr_logistic, tpr_logistic, _ = metrics.roc_curve(y_test, logistic_model.predict_proba(X_test)[:,1], pos_label='Yes')\n",
    "roc_auc_logistic = metrics.auc(fpr_logistic, tpr_logistic)\n",
    "\n",
    "# Calculate the ROC curve value of the random forest\n",
    "fpr_rf, tpr_rf, _ = metrics.roc_curve(y_test, random_forest_model.predict_proba(X_test)[:,1], pos_label='Yes')\n",
    "roc_auc_rf = metrics.auc(fpr_rf, tpr_rf)\n",
    "\n",
    "# draw the ROC curve\n",
    "plt.figure(figsize=(10, 7))\n",
    "plt.plot(fpr_logistic, tpr_logistic, label=f'Logistic Regression (area = {roc_auc_logistic:.2f})')\n",
    "plt.plot(fpr_rf, tpr_rf, label=f'Random Forest (area = {roc_auc_rf:.2f})')\n",
    "plt.plot([0, 1], [0, 1],'r--')\n",
    "plt.xlim([0.0, 1.0])\n",
    "plt.ylim([0.0, 1.05])\n",
    "plt.xlabel('False Positive Rate')\n",
    "plt.ylabel('True Positive Rate')\n",
    "plt.title('Receiver Operating Characteristic (ROC) Curve')\n",
    "plt.legend(loc=\"lower right\")\n",
    "plt.show()"
   ]
  },
  {
   "cell_type": "markdown",
   "id": "f7e7defa-5684-4427-9269-4c0c30b094e4",
   "metadata": {},
   "source": [
    "### Both logistic regression and random forest underperformed, switched to XGBoost model"
   ]
  },
  {
   "cell_type": "code",
   "execution_count": 22,
   "id": "f65a0df8-b698-4a06-b050-dbf52de2393f",
   "metadata": {},
   "outputs": [],
   "source": [
    "y_train = y_train.replace({'Yes': 1, 'No': 0})\n",
    "y_test = y_test.replace({'Yes': 1, 'No': 0})"
   ]
  },
  {
   "cell_type": "code",
   "execution_count": 23,
   "id": "6a97581d-82dc-4e7f-9973-a612a92be89d",
   "metadata": {},
   "outputs": [
    {
     "name": "stdout",
     "output_type": "stream",
     "text": [
      "Accuracy: 89.82%\n"
     ]
    }
   ],
   "source": [
    "import xgboost as xgb\n",
    "from sklearn.metrics import accuracy_score\n",
    "\n",
    "# Convert data to DMatrix format, which is the native data format of XGBoost, which can improve efficiency\n",
    "dtrain = xgb.DMatrix(X_train, label=y_train)\n",
    "dtest = xgb.DMatrix(X_test, label=y_test)\n",
    "\n",
    "# Setting parameters\n",
    "param = {\n",
    "    'max_depth': 3,\n",
    "    'eta': 0.3,\n",
    "    'objective': 'binary:logistic',\n",
    "    'eval_metric': 'logloss'\n",
    "}\n",
    "\n",
    "# use the training data for model training\n",
    "num_round = 100\n",
    "bst = xgb.train(param, dtrain, num_round)\n",
    "\n",
    "# make predictions using test data\n",
    "y_pred = bst.predict(dtest)\n",
    "y_pred_binary = [1 if p > 0.5 else 0 for p in y_pred]\n",
    "\n",
    "# calculate accuracy\n",
    "accuracy = accuracy_score(y_test, y_pred_binary)\n",
    "print(\"Accuracy: {:.2f}%\".format(accuracy * 100))"
   ]
  },
  {
   "cell_type": "markdown",
   "id": "3967eb30-fbbd-4771-ba0e-dde0afaa5142",
   "metadata": {},
   "source": [
    "# Predict the Missing Values"
   ]
  },
  {
   "cell_type": "code",
   "execution_count": 35,
   "id": "8a820422-02b8-45b7-a301-6ad66834356f",
   "metadata": {},
   "outputs": [],
   "source": [
    "missing_data = df[df['Diabetes'].isnull()]\n",
    "known_data = df.dropna(subset=['Diabetes'])"
   ]
  },
  {
   "cell_type": "code",
   "execution_count": 36,
   "id": "97570098-21ab-4afd-bd8f-0f95459813bf",
   "metadata": {},
   "outputs": [],
   "source": [
    "X_known = known_data.drop(columns=['Diabetes'])\n",
    "y_known = known_data['Diabetes']"
   ]
  },
  {
   "cell_type": "code",
   "execution_count": 37,
   "id": "84ea5343-8179-4a3b-8811-bfe986ed6055",
   "metadata": {},
   "outputs": [],
   "source": [
    "X_missing = missing_data.drop(columns=['Diabetes'])"
   ]
  },
  {
   "cell_type": "code",
   "execution_count": 38,
   "id": "cb384b61-6763-45d5-be6d-3adfe0001023",
   "metadata": {},
   "outputs": [],
   "source": [
    "from sklearn.preprocessing import LabelEncoder\n",
    "\n",
    "# 1. Use LabelEncoder to encode y_known\n",
    "encoder = LabelEncoder()\n",
    "y_known_encoded = encoder.fit_transform(y_known)\n",
    "\n",
    "# 2. Create DMatrix with encoded labels\n",
    "d_known = xgb.DMatrix(X_known, label=y_known_encoded)\n",
    "d_missing = xgb.DMatrix(X_missing)"
   ]
  },
  {
   "cell_type": "code",
   "execution_count": 39,
   "id": "ddef182a-9c7d-41ed-9e23-ceb464382ba5",
   "metadata": {},
   "outputs": [],
   "source": [
    "# Train the XGBoost model\n",
    "param = {'max_depth':4, 'eta':0.3, 'objective':'binary:logistic'}\n",
    "num_round = 100\n",
    "bst = xgb.train(param, d_known, num_round)\n",
    "\n",
    "# Use the XGBoost model to make predictions\n",
    "y_pred_missing = bst.predict(d_missing)\n",
    "\n",
    "# Convert probabilities to binary classification results\n",
    "y_pred_missing_binary = [1 if p > 0.5 else 0 for p in y_pred_missing]"
   ]
  },
  {
   "cell_type": "code",
   "execution_count": 40,
   "id": "cbbc8c6e-e1c3-4604-b99f-a333bcb7f695",
   "metadata": {},
   "outputs": [
    {
     "name": "stderr",
     "output_type": "stream",
     "text": [
      "C:\\Users\\31332\\AppData\\Local\\Temp\\ipykernel_19576\\3963029201.py:1: SettingWithCopyWarning: \n",
      "A value is trying to be set on a copy of a slice from a DataFrame.\n",
      "Try using .loc[row_indexer,col_indexer] = value instead\n",
      "\n",
      "See the caveats in the documentation: https://pandas.pydata.org/pandas-docs/stable/user_guide/indexing.html#returning-a-view-versus-a-copy\n",
      "  missing_data['Diabetes'] = y_pred_missing_binary\n"
     ]
    }
   ],
   "source": [
    "missing_data['Diabetes'] = y_pred_missing_binary\n",
    "filled_data = pd.concat([known_data, missing_data], axis=0)"
   ]
  },
  {
   "cell_type": "code",
   "execution_count": 41,
   "id": "1dc3a745-5ab8-4414-9bb1-6624133fb652",
   "metadata": {},
   "outputs": [
    {
     "name": "stdout",
     "output_type": "stream",
     "text": [
      "Student ID        1024\n",
      "Age                  0\n",
      "Gender               0\n",
      "Height               0\n",
      "Weight               0\n",
      "BMI                  0\n",
      "Temperature          0\n",
      "Heart Rate           0\n",
      "Blood Pressure       0\n",
      "Cholesterol          0\n",
      "Diabetes             0\n",
      "Smoking              0\n",
      "Blood Type_A         0\n",
      "Blood Type_AB        0\n",
      "Blood Type_B         0\n",
      "Blood Type_O         0\n",
      "dtype: int64\n"
     ]
    }
   ],
   "source": [
    "missing_values = filled_data.isnull().sum()\n",
    "print(missing_values)"
   ]
  },
  {
   "cell_type": "code",
   "execution_count": 42,
   "id": "0722c7ad-6244-4190-8a55-651eff44ad40",
   "metadata": {},
   "outputs": [
    {
     "name": "stderr",
     "output_type": "stream",
     "text": [
      "C:\\Users\\31332\\anaconda3\\lib\\site-packages\\pandas\\core\\internals\\blocks.py:2323: RuntimeWarning: invalid value encountered in cast\n",
      "  values = values.astype(str)\n"
     ]
    }
   ],
   "source": [
    "filled_data.to_csv('msd_cleaning_V2.csv', index=False)"
   ]
  },
  {
   "cell_type": "code",
   "execution_count": null,
   "id": "81a0d4ef-8294-4c4e-b1c8-af2ef7811e86",
   "metadata": {},
   "outputs": [],
   "source": []
  }
 ],
 "metadata": {
  "kernelspec": {
   "display_name": "Python 3 (ipykernel)",
   "language": "python",
   "name": "python3"
  },
  "language_info": {
   "codemirror_mode": {
    "name": "ipython",
    "version": 3
   },
   "file_extension": ".py",
   "mimetype": "text/x-python",
   "name": "python",
   "nbconvert_exporter": "python",
   "pygments_lexer": "ipython3",
   "version": "3.10.9"
  }
 },
 "nbformat": 4,
 "nbformat_minor": 5
}
