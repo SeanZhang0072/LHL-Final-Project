{
 "cells": [
  {
   "cell_type": "code",
   "execution_count": 2,
   "id": "2d7b929b-a3c9-41db-9593-5eb2a4962537",
   "metadata": {},
   "outputs": [
    {
     "name": "stderr",
     "output_type": "stream",
     "text": [
      "C:\\Users\\31332\\anaconda3\\lib\\site-packages\\pandas\\core\\internals\\blocks.py:2323: RuntimeWarning: invalid value encountered in cast\n",
      "  values = values.astype(str)\n"
     ]
    }
   ],
   "source": [
    "import pandas as pd\n",
    "\n",
    "# 从CSV文件中读取数据\n",
    "df = pd.read_csv('medical_students_dataset.csv')\n",
    "\n",
    "# 假设这个CSV文件中前100,000行和后100,000行的数据是相似的。\n",
    "df1 = df.iloc[:100000]\n",
    "df2 = df.iloc[100000:200000]\n",
    "\n",
    "# 导出为两个csv文件\n",
    "df1.to_csv('file1.csv', index=False)\n",
    "df2.to_csv('file2.csv', index=False)"
   ]
  },
  {
   "cell_type": "code",
   "execution_count": 3,
   "id": "be020b94-f7c3-4b42-ad2c-54bef09e442d",
   "metadata": {},
   "outputs": [
    {
     "name": "stderr",
     "output_type": "stream",
     "text": [
      "C:\\Users\\31332\\anaconda3\\lib\\site-packages\\pandas\\core\\internals\\blocks.py:2323: RuntimeWarning: invalid value encountered in cast\n",
      "  values = values.astype(str)\n"
     ]
    }
   ],
   "source": [
    "# 重新读取这两个csv文件\n",
    "df1 = pd.read_csv('file1.csv')\n",
    "df2 = pd.read_csv('file2.csv')\n",
    "\n",
    "# 使用combine_first弥补缺失值\n",
    "merged_df = df1.combine_first(df2)\n",
    "\n",
    "# 保存合并后的数据\n",
    "merged_df.to_csv('merged_file.csv', index=False)"
   ]
  },
  {
   "cell_type": "code",
   "execution_count": null,
   "id": "b20979f1-8ac8-4ea3-a47d-b41922e937e2",
   "metadata": {},
   "outputs": [],
   "source": []
  }
 ],
 "metadata": {
  "kernelspec": {
   "display_name": "Python 3 (ipykernel)",
   "language": "python",
   "name": "python3"
  },
  "language_info": {
   "codemirror_mode": {
    "name": "ipython",
    "version": 3
   },
   "file_extension": ".py",
   "mimetype": "text/x-python",
   "name": "python",
   "nbconvert_exporter": "python",
   "pygments_lexer": "ipython3",
   "version": "3.10.9"
  }
 },
 "nbformat": 4,
 "nbformat_minor": 5
}
