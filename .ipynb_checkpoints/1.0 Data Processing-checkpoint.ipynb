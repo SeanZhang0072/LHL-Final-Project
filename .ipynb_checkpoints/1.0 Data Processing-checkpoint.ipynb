{
 "cells": [
  {
   "cell_type": "markdown",
   "id": "32747a79-5873-4656-92c9-2b4d6ec3dd1f",
   "metadata": {},
   "source": [
    "# EDA"
   ]
  },
  {
   "cell_type": "code",
   "execution_count": 32,
   "id": "ef4bab94-6067-486c-8163-087db181da5f",
   "metadata": {},
   "outputs": [],
   "source": [
    "import pandas as pd\n",
    "from sklearn.preprocessing import LabelEncoder, StandardScaler, OneHotEncoder\n",
    "from sklearn.impute import SimpleImputer"
   ]
  },
  {
   "cell_type": "code",
   "execution_count": 2,
   "id": "7bf3f966-563a-4791-8bce-a9304490f1d4",
   "metadata": {},
   "outputs": [],
   "source": [
    "df = pd.read_csv('medical_students_dataset.csv')"
   ]
  },
  {
   "cell_type": "code",
   "execution_count": 3,
   "id": "352df56d-bb59-4851-bcec-b30e5c2f38ba",
   "metadata": {},
   "outputs": [
    {
     "data": {
      "text/html": [
       "<div>\n",
       "<style scoped>\n",
       "    .dataframe tbody tr th:only-of-type {\n",
       "        vertical-align: middle;\n",
       "    }\n",
       "\n",
       "    .dataframe tbody tr th {\n",
       "        vertical-align: top;\n",
       "    }\n",
       "\n",
       "    .dataframe thead th {\n",
       "        text-align: right;\n",
       "    }\n",
       "</style>\n",
       "<table border=\"1\" class=\"dataframe\">\n",
       "  <thead>\n",
       "    <tr style=\"text-align: right;\">\n",
       "      <th></th>\n",
       "      <th>Student ID</th>\n",
       "      <th>Age</th>\n",
       "      <th>Gender</th>\n",
       "      <th>Height</th>\n",
       "      <th>Weight</th>\n",
       "      <th>Blood Type</th>\n",
       "      <th>BMI</th>\n",
       "      <th>Temperature</th>\n",
       "      <th>Heart Rate</th>\n",
       "      <th>Blood Pressure</th>\n",
       "      <th>Cholesterol</th>\n",
       "      <th>Diabetes</th>\n",
       "      <th>Smoking</th>\n",
       "    </tr>\n",
       "  </thead>\n",
       "  <tbody>\n",
       "    <tr>\n",
       "      <th>0</th>\n",
       "      <td>1.0</td>\n",
       "      <td>18.0</td>\n",
       "      <td>Female</td>\n",
       "      <td>161.777924</td>\n",
       "      <td>72.354947</td>\n",
       "      <td>O</td>\n",
       "      <td>27.645835</td>\n",
       "      <td>NaN</td>\n",
       "      <td>95.0</td>\n",
       "      <td>109.0</td>\n",
       "      <td>203.0</td>\n",
       "      <td>No</td>\n",
       "      <td>NaN</td>\n",
       "    </tr>\n",
       "    <tr>\n",
       "      <th>1</th>\n",
       "      <td>2.0</td>\n",
       "      <td>NaN</td>\n",
       "      <td>Male</td>\n",
       "      <td>152.069157</td>\n",
       "      <td>47.630941</td>\n",
       "      <td>B</td>\n",
       "      <td>NaN</td>\n",
       "      <td>98.714977</td>\n",
       "      <td>93.0</td>\n",
       "      <td>104.0</td>\n",
       "      <td>163.0</td>\n",
       "      <td>No</td>\n",
       "      <td>No</td>\n",
       "    </tr>\n",
       "    <tr>\n",
       "      <th>2</th>\n",
       "      <td>3.0</td>\n",
       "      <td>32.0</td>\n",
       "      <td>Female</td>\n",
       "      <td>182.537664</td>\n",
       "      <td>55.741083</td>\n",
       "      <td>A</td>\n",
       "      <td>16.729017</td>\n",
       "      <td>98.260293</td>\n",
       "      <td>76.0</td>\n",
       "      <td>130.0</td>\n",
       "      <td>216.0</td>\n",
       "      <td>Yes</td>\n",
       "      <td>No</td>\n",
       "    </tr>\n",
       "    <tr>\n",
       "      <th>3</th>\n",
       "      <td>NaN</td>\n",
       "      <td>30.0</td>\n",
       "      <td>Male</td>\n",
       "      <td>182.112867</td>\n",
       "      <td>63.332207</td>\n",
       "      <td>B</td>\n",
       "      <td>19.096042</td>\n",
       "      <td>98.839605</td>\n",
       "      <td>99.0</td>\n",
       "      <td>112.0</td>\n",
       "      <td>141.0</td>\n",
       "      <td>No</td>\n",
       "      <td>Yes</td>\n",
       "    </tr>\n",
       "    <tr>\n",
       "      <th>4</th>\n",
       "      <td>5.0</td>\n",
       "      <td>23.0</td>\n",
       "      <td>Female</td>\n",
       "      <td>NaN</td>\n",
       "      <td>46.234173</td>\n",
       "      <td>O</td>\n",
       "      <td>NaN</td>\n",
       "      <td>98.480008</td>\n",
       "      <td>95.0</td>\n",
       "      <td>NaN</td>\n",
       "      <td>231.0</td>\n",
       "      <td>No</td>\n",
       "      <td>No</td>\n",
       "    </tr>\n",
       "  </tbody>\n",
       "</table>\n",
       "</div>"
      ],
      "text/plain": [
       "   Student ID   Age  Gender      Height     Weight Blood Type        BMI  \\\n",
       "0         1.0  18.0  Female  161.777924  72.354947          O  27.645835   \n",
       "1         2.0   NaN    Male  152.069157  47.630941          B        NaN   \n",
       "2         3.0  32.0  Female  182.537664  55.741083          A  16.729017   \n",
       "3         NaN  30.0    Male  182.112867  63.332207          B  19.096042   \n",
       "4         5.0  23.0  Female         NaN  46.234173          O        NaN   \n",
       "\n",
       "   Temperature  Heart Rate  Blood Pressure  Cholesterol Diabetes Smoking  \n",
       "0          NaN        95.0           109.0        203.0       No     NaN  \n",
       "1    98.714977        93.0           104.0        163.0       No      No  \n",
       "2    98.260293        76.0           130.0        216.0      Yes      No  \n",
       "3    98.839605        99.0           112.0        141.0       No     Yes  \n",
       "4    98.480008        95.0             NaN        231.0       No      No  "
      ]
     },
     "execution_count": 3,
     "metadata": {},
     "output_type": "execute_result"
    }
   ],
   "source": [
    "df.head()"
   ]
  },
  {
   "cell_type": "code",
   "execution_count": 4,
   "id": "84938304-d290-4d3b-b379-82f6d824259f",
   "metadata": {},
   "outputs": [
    {
     "data": {
      "text/html": [
       "<div>\n",
       "<style scoped>\n",
       "    .dataframe tbody tr th:only-of-type {\n",
       "        vertical-align: middle;\n",
       "    }\n",
       "\n",
       "    .dataframe tbody tr th {\n",
       "        vertical-align: top;\n",
       "    }\n",
       "\n",
       "    .dataframe thead th {\n",
       "        text-align: right;\n",
       "    }\n",
       "</style>\n",
       "<table border=\"1\" class=\"dataframe\">\n",
       "  <thead>\n",
       "    <tr style=\"text-align: right;\">\n",
       "      <th></th>\n",
       "      <th>Student ID</th>\n",
       "      <th>Age</th>\n",
       "      <th>Height</th>\n",
       "      <th>Weight</th>\n",
       "      <th>BMI</th>\n",
       "      <th>Temperature</th>\n",
       "      <th>Heart Rate</th>\n",
       "      <th>Blood Pressure</th>\n",
       "      <th>Cholesterol</th>\n",
       "    </tr>\n",
       "  </thead>\n",
       "  <tbody>\n",
       "    <tr>\n",
       "      <th>count</th>\n",
       "      <td>180000.000000</td>\n",
       "      <td>180000.000000</td>\n",
       "      <td>180000.000000</td>\n",
       "      <td>180000.000000</td>\n",
       "      <td>180000.000000</td>\n",
       "      <td>180000.000000</td>\n",
       "      <td>180000.000000</td>\n",
       "      <td>180000.000000</td>\n",
       "      <td>180000.000000</td>\n",
       "    </tr>\n",
       "    <tr>\n",
       "      <th>mean</th>\n",
       "      <td>49974.042078</td>\n",
       "      <td>26.021561</td>\n",
       "      <td>174.947103</td>\n",
       "      <td>69.971585</td>\n",
       "      <td>23.338869</td>\n",
       "      <td>98.600948</td>\n",
       "      <td>79.503767</td>\n",
       "      <td>114.558033</td>\n",
       "      <td>184.486361</td>\n",
       "    </tr>\n",
       "    <tr>\n",
       "      <th>std</th>\n",
       "      <td>28879.641657</td>\n",
       "      <td>4.890528</td>\n",
       "      <td>14.447560</td>\n",
       "      <td>17.322574</td>\n",
       "      <td>7.033554</td>\n",
       "      <td>0.500530</td>\n",
       "      <td>11.540755</td>\n",
       "      <td>14.403353</td>\n",
       "      <td>37.559678</td>\n",
       "    </tr>\n",
       "    <tr>\n",
       "      <th>min</th>\n",
       "      <td>1.000000</td>\n",
       "      <td>18.000000</td>\n",
       "      <td>150.000041</td>\n",
       "      <td>40.000578</td>\n",
       "      <td>10.074837</td>\n",
       "      <td>96.397835</td>\n",
       "      <td>60.000000</td>\n",
       "      <td>90.000000</td>\n",
       "      <td>120.000000</td>\n",
       "    </tr>\n",
       "    <tr>\n",
       "      <th>25%</th>\n",
       "      <td>24971.750000</td>\n",
       "      <td>22.000000</td>\n",
       "      <td>162.476110</td>\n",
       "      <td>54.969838</td>\n",
       "      <td>17.858396</td>\n",
       "      <td>98.264750</td>\n",
       "      <td>70.000000</td>\n",
       "      <td>102.000000</td>\n",
       "      <td>152.000000</td>\n",
       "    </tr>\n",
       "    <tr>\n",
       "      <th>50%</th>\n",
       "      <td>49943.500000</td>\n",
       "      <td>26.000000</td>\n",
       "      <td>174.899914</td>\n",
       "      <td>69.979384</td>\n",
       "      <td>22.671401</td>\n",
       "      <td>98.599654</td>\n",
       "      <td>80.000000</td>\n",
       "      <td>115.000000</td>\n",
       "      <td>184.000000</td>\n",
       "    </tr>\n",
       "    <tr>\n",
       "      <th>75%</th>\n",
       "      <td>74986.000000</td>\n",
       "      <td>30.000000</td>\n",
       "      <td>187.464417</td>\n",
       "      <td>84.980097</td>\n",
       "      <td>27.997487</td>\n",
       "      <td>98.940543</td>\n",
       "      <td>90.000000</td>\n",
       "      <td>127.000000</td>\n",
       "      <td>217.000000</td>\n",
       "    </tr>\n",
       "    <tr>\n",
       "      <th>max</th>\n",
       "      <td>100000.000000</td>\n",
       "      <td>34.000000</td>\n",
       "      <td>199.998639</td>\n",
       "      <td>99.999907</td>\n",
       "      <td>44.355113</td>\n",
       "      <td>100.824857</td>\n",
       "      <td>99.000000</td>\n",
       "      <td>139.000000</td>\n",
       "      <td>249.000000</td>\n",
       "    </tr>\n",
       "  </tbody>\n",
       "</table>\n",
       "</div>"
      ],
      "text/plain": [
       "          Student ID            Age         Height         Weight  \\\n",
       "count  180000.000000  180000.000000  180000.000000  180000.000000   \n",
       "mean    49974.042078      26.021561     174.947103      69.971585   \n",
       "std     28879.641657       4.890528      14.447560      17.322574   \n",
       "min         1.000000      18.000000     150.000041      40.000578   \n",
       "25%     24971.750000      22.000000     162.476110      54.969838   \n",
       "50%     49943.500000      26.000000     174.899914      69.979384   \n",
       "75%     74986.000000      30.000000     187.464417      84.980097   \n",
       "max    100000.000000      34.000000     199.998639      99.999907   \n",
       "\n",
       "                 BMI    Temperature     Heart Rate  Blood Pressure  \\\n",
       "count  180000.000000  180000.000000  180000.000000   180000.000000   \n",
       "mean       23.338869      98.600948      79.503767      114.558033   \n",
       "std         7.033554       0.500530      11.540755       14.403353   \n",
       "min        10.074837      96.397835      60.000000       90.000000   \n",
       "25%        17.858396      98.264750      70.000000      102.000000   \n",
       "50%        22.671401      98.599654      80.000000      115.000000   \n",
       "75%        27.997487      98.940543      90.000000      127.000000   \n",
       "max        44.355113     100.824857      99.000000      139.000000   \n",
       "\n",
       "         Cholesterol  \n",
       "count  180000.000000  \n",
       "mean      184.486361  \n",
       "std        37.559678  \n",
       "min       120.000000  \n",
       "25%       152.000000  \n",
       "50%       184.000000  \n",
       "75%       217.000000  \n",
       "max       249.000000  "
      ]
     },
     "execution_count": 4,
     "metadata": {},
     "output_type": "execute_result"
    }
   ],
   "source": [
    "df.describe()"
   ]
  },
  {
   "cell_type": "code",
   "execution_count": 5,
   "id": "550958b0-dd4c-46ce-8771-0a76d3f1e774",
   "metadata": {},
   "outputs": [
    {
     "data": {
      "text/plain": [
       "Student ID        20000\n",
       "Age               20000\n",
       "Gender            20000\n",
       "Height            20000\n",
       "Weight            20000\n",
       "Blood Type        20000\n",
       "BMI               20000\n",
       "Temperature       20000\n",
       "Heart Rate        20000\n",
       "Blood Pressure    20000\n",
       "Cholesterol       20000\n",
       "Diabetes          20000\n",
       "Smoking           20000\n",
       "dtype: int64"
      ]
     },
     "execution_count": 5,
     "metadata": {},
     "output_type": "execute_result"
    }
   ],
   "source": [
    "df.isnull().sum()"
   ]
  },
  {
   "cell_type": "code",
   "execution_count": 6,
   "id": "a5aeb50e-59cd-42e7-80e4-564590f48e47",
   "metadata": {},
   "outputs": [],
   "source": [
    "# 使用平均值填充连续型特征的缺失值\n",
    "continuous_features = ['Age', 'Height', 'Weight', 'BMI', 'Temperature', 'Heart Rate', 'Blood Pressure', 'Cholesterol']\n",
    "for feature in continuous_features:\n",
    "    df[feature].fillna(df[feature].mean(), inplace=True)\n",
    "\n",
    "# 使用众数填充类别型特征的缺失值\n",
    "categorical_features = ['Gender', 'Blood Type', 'Smoking']\n",
    "for feature in categorical_features:\n",
    "    mode_value = df[feature].mode()[0]\n",
    "    df[feature].fillna(mode_value, inplace=True)\n",
    "\n",
    "# 注意: 不要填充'Diabetes'列的缺失值，因为我们将使用模型来预测这些缺失值"
   ]
  },
  {
   "cell_type": "code",
   "execution_count": 7,
   "id": "38ab5f64-80a7-496b-91c8-f2ecb538d7e7",
   "metadata": {},
   "outputs": [],
   "source": [
    "# 使用 LabelEncoder 对二值特征进行编码\n",
    "label_encoders = {}\n",
    "for feature in ['Gender', 'Smoking']:\n",
    "    le = LabelEncoder()\n",
    "    df[feature] = le.fit_transform(df[feature])\n",
    "    label_encoders[feature] = le\n",
    "\n",
    "# 使用 pd.get_dummies 或 OneHotEncoder 对多值特征 'Blood Type' 进行编码\n",
    "df = pd.concat([df, pd.get_dummies(df['Blood Type'], prefix='Blood Type')], axis=1)\n",
    "df.drop(['Blood Type'], axis=1, inplace=True)"
   ]
  },
  {
   "cell_type": "code",
   "execution_count": 8,
   "id": "e8ebdf4c-eb17-4842-a6f8-6c6ffffa5634",
   "metadata": {},
   "outputs": [],
   "source": [
    "scaler = StandardScaler()\n",
    "df[continuous_features] = scaler.fit_transform(df[continuous_features])\n"
   ]
  },
  {
   "cell_type": "markdown",
   "id": "e9f8c149-5a3b-4186-bf8d-5bae4ffd362c",
   "metadata": {},
   "source": [
    "# 数据分离"
   ]
  },
  {
   "cell_type": "code",
   "execution_count": 9,
   "id": "98ab66e0-c15e-4935-b5c2-4bdd7bb23740",
   "metadata": {},
   "outputs": [],
   "source": [
    "from sklearn.model_selection import train_test_split"
   ]
  },
  {
   "cell_type": "code",
   "execution_count": 10,
   "id": "52bd61ea-08dc-4cae-a57b-47845eaf9de1",
   "metadata": {},
   "outputs": [],
   "source": [
    "X = df.drop('Diabetes', axis=1)\n",
    "y = df['Diabetes']"
   ]
  },
  {
   "cell_type": "code",
   "execution_count": 11,
   "id": "311a6f64-9459-4e0d-9e3e-6f3147e1c491",
   "metadata": {},
   "outputs": [],
   "source": [
    "# 选择那些'Diabetes'不为NaN的行\n",
    "available_data = y.notnull()\n",
    "\n",
    "X_available = X[available_data]\n",
    "y_available = y[available_data]\n",
    "\n",
    "X_train, X_test, y_train, y_test = train_test_split(X_available, y_available, test_size=0.2, random_state=42)"
   ]
  },
  {
   "cell_type": "code",
   "execution_count": 12,
   "id": "a3343fa9-13c5-43a8-baf2-a1567beda777",
   "metadata": {},
   "outputs": [],
   "source": [
    "X_missing = X[~available_data]\n"
   ]
  },
  {
   "cell_type": "code",
   "execution_count": 13,
   "id": "8f44640c-1d84-471d-b8ee-3cc28e14299f",
   "metadata": {},
   "outputs": [
    {
     "name": "stdout",
     "output_type": "stream",
     "text": [
      "Student ID        14330\n",
      "Age                   0\n",
      "Gender                0\n",
      "Height                0\n",
      "Weight                0\n",
      "BMI                   0\n",
      "Temperature           0\n",
      "Heart Rate            0\n",
      "Blood Pressure        0\n",
      "Cholesterol           0\n",
      "Smoking               0\n",
      "Blood Type_A          0\n",
      "Blood Type_AB         0\n",
      "Blood Type_B          0\n",
      "Blood Type_O          0\n",
      "dtype: int64\n"
     ]
    }
   ],
   "source": [
    "print(X_train.isnull().sum())\n"
   ]
  },
  {
   "cell_type": "code",
   "execution_count": 14,
   "id": "08787683-e0e6-4394-9103-804fb10a9a30",
   "metadata": {},
   "outputs": [],
   "source": [
    "X_train = X_train.drop(columns=['Student ID'])\n",
    "X_test = X_test.drop(columns=['Student ID'])"
   ]
  },
  {
   "cell_type": "markdown",
   "id": "a50825b4-2432-40c5-9096-f3d53c2392e6",
   "metadata": {},
   "source": [
    "# 模型选择与训练"
   ]
  },
  {
   "cell_type": "code",
   "execution_count": 15,
   "id": "48d10f3b-5b43-4758-b9da-c78bc57d65c7",
   "metadata": {},
   "outputs": [],
   "source": [
    "from sklearn.linear_model import LogisticRegression\n",
    "from sklearn.ensemble import RandomForestClassifier\n",
    "from sklearn.metrics import accuracy_score, classification_report\n",
    "from sklearn.model_selection import cross_val_score\n"
   ]
  },
  {
   "cell_type": "code",
   "execution_count": 16,
   "id": "ef6c8e6b-2861-461a-a561-4eaa7d9cb9de",
   "metadata": {},
   "outputs": [],
   "source": [
    "logistic_model = LogisticRegression(max_iter=1000, random_state=42)\n",
    "random_forest_model = RandomForestClassifier(n_estimators=100, random_state=42)\n"
   ]
  },
  {
   "cell_type": "code",
   "execution_count": 17,
   "id": "067d760f-c298-4b73-950b-51ca195c270f",
   "metadata": {},
   "outputs": [
    {
     "name": "stdout",
     "output_type": "stream",
     "text": [
      "Logistic Regression CV Accuracy: 0.90 (+/- 0.00)\n",
      "Random Forest CV Accuracy: 0.91 (+/- 0.00)\n"
     ]
    }
   ],
   "source": [
    "# 使用逻辑回归模型进行交叉验证\n",
    "logistic_scores = cross_val_score(logistic_model, X_train, y_train, cv=5, scoring='accuracy')\n",
    "\n",
    "# 使用随机森林模型进行交叉验证\n",
    "rf_scores = cross_val_score(random_forest_model, X_train, y_train, cv=5, scoring='accuracy')\n",
    "\n",
    "print(\"Logistic Regression CV Accuracy: %0.2f (+/- %0.2f)\" % (logistic_scores.mean(), logistic_scores.std() * 2))\n",
    "print(\"Random Forest CV Accuracy: %0.2f (+/- %0.2f)\" % (rf_scores.mean(), rf_scores.std() * 2))\n"
   ]
  },
  {
   "cell_type": "markdown",
   "id": "e660fec6-9d61-422f-98e6-aaffffed6616",
   "metadata": {},
   "source": [
    "# 评估模型"
   ]
  },
  {
   "cell_type": "code",
   "execution_count": 18,
   "id": "ff51d1b7-c397-4078-bc97-af8923b7b2c9",
   "metadata": {},
   "outputs": [],
   "source": [
    "# 1. 使用训练数据拟合模型\n",
    "\n",
    "# 假设您已经按以下方式初始化了逻辑回归模型\n",
    "# logistic_model = LogisticRegression()\n",
    "\n",
    "logistic_model.fit(X_train, y_train)\n",
    "\n",
    "# 现在，模型已经训练完成，我们可以使用它进行预测\n",
    "\n",
    "# 2. 使用训练过的模型进行预测\n",
    "y_pred_logistic = logistic_model.predict(X_test)\n",
    "\n",
    "# 如果您还没有为随机森林模型进行这个操作，那么您也应该执行类似的步骤：\n",
    "\n",
    "random_forest_model.fit(X_train, y_train)\n",
    "y_pred_rf = random_forest_model.predict(X_test)\n"
   ]
  },
  {
   "cell_type": "code",
   "execution_count": 19,
   "id": "7b8aa003-14f8-4da9-ae87-13c75b6a26db",
   "metadata": {},
   "outputs": [],
   "source": [
    "# 使用逻辑回归模型进行预测\n",
    "y_pred_logistic = logistic_model.predict(X_test)\n",
    "\n",
    "# 使用随机森林模型进行预测\n",
    "y_pred_rf = random_forest_model.predict(X_test)\n"
   ]
  },
  {
   "cell_type": "code",
   "execution_count": 20,
   "id": "89e7ffb4-9673-4da4-9440-5401861f10ed",
   "metadata": {},
   "outputs": [
    {
     "name": "stderr",
     "output_type": "stream",
     "text": [
      "C:\\Users\\31332\\anaconda3\\lib\\site-packages\\sklearn\\metrics\\_classification.py:1469: UndefinedMetricWarning: Precision is ill-defined and being set to 0.0 due to no predicted samples. Use `zero_division` parameter to control this behavior.\n",
      "  _warn_prf(average, modifier, msg_start, len(result))\n"
     ]
    },
    {
     "name": "stdout",
     "output_type": "stream",
     "text": [
      "For Logistic Regression:\n",
      "Accuracy: 0.90\n",
      "Precision: 0.00\n",
      "Recall: 0.00\n",
      "F1 Score: 0.00\n",
      "\n",
      "For Random Forest:\n",
      "Accuracy: 0.92\n",
      "Precision: 1.00\n",
      "Recall: 0.17\n",
      "F1 Score: 0.29\n"
     ]
    }
   ],
   "source": [
    "from sklearn import metrics\n",
    "\n",
    "# 为逻辑回归计算指标\n",
    "accuracy_logistic = metrics.accuracy_score(y_test, y_pred_logistic)\n",
    "precision_logistic = metrics.precision_score(y_test, y_pred_logistic, pos_label='Yes')\n",
    "recall_logistic = metrics.recall_score(y_test, y_pred_logistic, pos_label='Yes')\n",
    "f1_logistic = metrics.f1_score(y_test, y_pred_logistic, pos_label='Yes')\n",
    "\n",
    "# 为随机森林计算指标\n",
    "accuracy_rf = metrics.accuracy_score(y_test, y_pred_rf)\n",
    "precision_rf = metrics.precision_score(y_test, y_pred_rf, pos_label='Yes')\n",
    "recall_rf = metrics.recall_score(y_test, y_pred_rf, pos_label='Yes')\n",
    "f1_rf = metrics.f1_score(y_test, y_pred_rf, pos_label='Yes')\n",
    "\n",
    "print(\"For Logistic Regression:\")\n",
    "print(f\"Accuracy: {accuracy_logistic:.2f}\")\n",
    "print(f\"Precision: {precision_logistic:.2f}\")\n",
    "print(f\"Recall: {recall_logistic:.2f}\")\n",
    "print(f\"F1 Score: {f1_logistic:.2f}\")\n",
    "\n",
    "print(\"\\nFor Random Forest:\")\n",
    "print(f\"Accuracy: {accuracy_rf:.2f}\")\n",
    "print(f\"Precision: {precision_rf:.2f}\")\n",
    "print(f\"Recall: {recall_rf:.2f}\")\n",
    "print(f\"F1 Score: {f1_rf:.2f}\")\n"
   ]
  },
  {
   "cell_type": "code",
   "execution_count": 21,
   "id": "5d9dfeef-4036-40c2-a642-123a9b3930cb",
   "metadata": {},
   "outputs": [
    {
     "data": {
      "image/png": "[encoded data removed]",
      "text/plain": [
       "<Figure size 1000x700 with 1 Axes>"
      ]
     },
     "metadata": {},
     "output_type": "display_data"
    }
   ],
   "source": [
    "import matplotlib.pyplot as plt\n",
    "\n",
    "# 计算逻辑回归的ROC曲线值\n",
    "fpr_logistic, tpr_logistic, _ = metrics.roc_curve(y_test, logistic_model.predict_proba(X_test)[:,1], pos_label='Yes')\n",
    "roc_auc_logistic = metrics.auc(fpr_logistic, tpr_logistic)\n",
    "\n",
    "# 如果您还需要计算随机森林的ROC曲线，请同样进行修改。\n",
    "\n",
    "\n",
    "# 计算随机森林的ROC曲线值\n",
    "fpr_rf, tpr_rf, _ = metrics.roc_curve(y_test, random_forest_model.predict_proba(X_test)[:,1], pos_label='Yes')\n",
    "roc_auc_rf = metrics.auc(fpr_rf, tpr_rf)\n",
    "\n",
    "# 绘制ROC曲线\n",
    "plt.figure(figsize=(10, 7))\n",
    "plt.plot(fpr_logistic, tpr_logistic, label=f'Logistic Regression (area = {roc_auc_logistic:.2f})')\n",
    "plt.plot(fpr_rf, tpr_rf, label=f'Random Forest (area = {roc_auc_rf:.2f})')\n",
    "plt.plot([0, 1], [0, 1],'r--')\n",
    "plt.xlim([0.0, 1.0])\n",
    "plt.ylim([0.0, 1.05])\n",
    "plt.xlabel('False Positive Rate')\n",
    "plt.ylabel('True Positive Rate')\n",
    "plt.title('Receiver Operating Characteristic (ROC) Curve')\n",
    "plt.legend(loc=\"lower right\")\n",
    "plt.show()"
   ]
  },
  {
   "cell_type": "markdown",
   "id": "3967eb30-fbbd-4771-ba0e-dde0afaa5142",
   "metadata": {},
   "source": [
    "# 预测缺失值"
   ]
  },
  {
   "cell_type": "code",
   "execution_count": 22,
   "id": "cb384b61-6763-45d5-be6d-3adfe0001023",
   "metadata": {},
   "outputs": [],
   "source": [
    "# 假设您的完整数据集是data\n",
    "missing_data = df[df['Diabetes'].isnull()]\n",
    "known_data = df.dropna(subset=['Diabetes'])"
   ]
  },
  {
   "cell_type": "code",
   "execution_count": 23,
   "id": "ddef182a-9c7d-41ed-9e23-ceb464382ba5",
   "metadata": {},
   "outputs": [],
   "source": [
    "X_known = known_data.drop(columns=['Diabetes']) # 这假设其他所有列都是特征列\n",
    "y_known = known_data['Diabetes']\n"
   ]
  },
  {
   "cell_type": "code",
   "execution_count": 24,
   "id": "cbbc8c6e-e1c3-4604-b99f-a333bcb7f695",
   "metadata": {},
   "outputs": [],
   "source": [
    "X_missing = missing_data.drop(columns=['Diabetes'])\n"
   ]
  },
  {
   "cell_type": "code",
   "execution_count": 25,
   "id": "9b24f8e6-70dc-4d39-b2a9-862901b6de12",
   "metadata": {},
   "outputs": [],
   "source": [
    "from sklearn.impute import SimpleImputer\n",
    "\n",
    "imputer = SimpleImputer(strategy='mean')\n",
    "X_known_imputed = imputer.fit_transform(X_known)\n",
    "X_missing_imputed = imputer.transform(X_missing)\n"
   ]
  },
  {
   "cell_type": "code",
   "execution_count": 26,
   "id": "2122a076-2002-4b7b-ac15-f527f6e7b268",
   "metadata": {},
   "outputs": [],
   "source": [
    "logistic_model.fit(X_known_imputed, y_known)\n",
    "predicted_values = logistic_model.predict(X_missing_imputed)\n"
   ]
  },
  {
   "cell_type": "code",
   "execution_count": 27,
   "id": "976dc0c1-a141-48e2-8fbf-7ba087038c14",
   "metadata": {},
   "outputs": [],
   "source": [
    "df.loc[df['Diabetes'].isnull(), 'Diabetes'] = predicted_values\n"
   ]
  },
  {
   "cell_type": "code",
   "execution_count": 28,
   "id": "16afaa2c-165a-4634-afe0-15d303978fea",
   "metadata": {},
   "outputs": [
    {
     "data": {
      "text/plain": [
       "Student ID        20000\n",
       "Age                   0\n",
       "Gender                0\n",
       "Height                0\n",
       "Weight                0\n",
       "BMI                   0\n",
       "Temperature           0\n",
       "Heart Rate            0\n",
       "Blood Pressure        0\n",
       "Cholesterol           0\n",
       "Diabetes              0\n",
       "Smoking               0\n",
       "Blood Type_A          0\n",
       "Blood Type_AB         0\n",
       "Blood Type_B          0\n",
       "Blood Type_O          0\n",
       "dtype: int64"
      ]
     },
     "execution_count": 28,
     "metadata": {},
     "output_type": "execute_result"
    }
   ],
   "source": [
    "df.isnull().sum()"
   ]
  },
  {
   "cell_type": "code",
   "execution_count": 29,
   "id": "e7d666a9-c98c-476d-9fc1-20df7e08ae45",
   "metadata": {},
   "outputs": [],
   "source": [
    "# 确定哪些行的Student ID是缺失的\n",
    "missing_indices = df[df[\"Student ID\"].isnull()].index\n",
    "\n",
    "# 如果确实存在缺失的Student ID\n",
    "if len(missing_indices) > 0:\n",
    "    # 按照您的描述，从1到100000然后再从1开始\n",
    "    for idx in missing_indices:\n",
    "        if idx < 100000:  # 第一段\n",
    "            df.at[idx, \"Student ID\"] = idx + 1  # 因为索引是从0开始的，所以我们加1\n",
    "        else:  # 第二段，从100001行开始\n",
    "            df.at[idx, \"Student ID\"] = (idx % 100000) + 1"
   ]
  },
  {
   "cell_type": "code",
   "execution_count": 30,
   "id": "9cca773e-55fc-469e-8f64-62ba1f37f32b",
   "metadata": {},
   "outputs": [
    {
     "data": {
      "text/plain": [
       "Student ID        0\n",
       "Age               0\n",
       "Gender            0\n",
       "Height            0\n",
       "Weight            0\n",
       "BMI               0\n",
       "Temperature       0\n",
       "Heart Rate        0\n",
       "Blood Pressure    0\n",
       "Cholesterol       0\n",
       "Diabetes          0\n",
       "Smoking           0\n",
       "Blood Type_A      0\n",
       "Blood Type_AB     0\n",
       "Blood Type_B      0\n",
       "Blood Type_O      0\n",
       "dtype: int64"
      ]
     },
     "execution_count": 30,
     "metadata": {},
     "output_type": "execute_result"
    }
   ],
   "source": [
    "df.isnull().sum()"
   ]
  },
  {
   "cell_type": "code",
   "execution_count": 31,
   "id": "14da91cf-8b9f-49d4-95af-07f5ffae972a",
   "metadata": {},
   "outputs": [],
   "source": [
    "df.to_csv(\"msd_cleaning.csv\", index=False)"
   ]
  },
  {
   "cell_type": "code",
   "execution_count": null,
   "id": "c5bda65c-7b0f-49d4-b3ee-4d747d6aab64",
   "metadata": {},
   "outputs": [],
   "source": []
  }
 ],
 "metadata": {
  "kernelspec": {
   "display_name": "Python 3 (ipykernel)",
   "language": "python",
   "name": "python3"
  },
  "language_info": {
   "codemirror_mode": {
    "name": "ipython",
    "version": 3
   },
   "file_extension": ".py",
   "mimetype": "text/x-python",
   "name": "python",
   "nbconvert_exporter": "python",
   "pygments_lexer": "ipython3",
   "version": "3.10.9"
  }
 },
 "nbformat": 4,
 "nbformat_minor": 5
}
